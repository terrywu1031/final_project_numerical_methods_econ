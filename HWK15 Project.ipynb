{
 "cells": [
  {
   "cell_type": "markdown",
   "id": "ad2e6842",
   "metadata": {},
   "source": [
    "### Course Project\n",
    "\n",
    "In this project, you are asked to conduct a Monte Carlo study (i.e., a simulation analysis) on the performance of various MLE methods for a normal-truncated normal stochastic frontier model. \n",
    "\n",
    "\n",
    "Grading is based on:\n",
    "- the log-likelihood functions and the DGP function: 65%\n",
    "  - producing the correct answer is the basic requirement\n",
    "- the simulation function and the result: 35%\n",
    "\n",
    "\n",
    "\n",
    "#### What is the \"normal-truncated normal stochastic frontier model\"?\n",
    "\n",
    "- Different from but similar to the normal-half normal stochastic frontier model in the previous homework.\n",
    "\n",
    "- See Section 1.5.2 of the lecture note Lec14a.\n",
    "\n",
    "\n",
    "#### What are the \"various MLE methods\"?\n",
    "\n",
    "These are the methods introduced in Lec13 and Lec14b. They include:\n",
    "- the standard MLE method,\n",
    "- the conventional Monte Carlo simulation method,\n",
    "- the numerical integration approach: the Gaussian quadrature method,\n",
    "- the numerical integration approach: The Monte Carlo integration method.\n",
    "\n",
    "\n",
    "#### What is a Monte Carlo study?\n",
    "\n",
    "A Monte Carlo study is a computational approach that utilizes repeated random sampling to simulate and analyze complex models. It's used to test the efficacy of econometric methods, study the properties of estimators or testing procedures, and understand the behavior of complex systems when mathematical analysis is difficult. \n",
    "\n",
    "\n",
    "#### \"_So, what exactly do I need to do in a simulation?_\"\n",
    "\n",
    "The process would look like the follows.\n",
    "\n",
    "1. Generate data  for a normal-truncated normal stochastic frontier model.\n",
    "  - You need to write a program similar to `DGP_nhn`.\n",
    "\n",
    "\n",
    "2. Estimate the data using one of the estimation methods mentioned in Section 1.2 above.\n",
    "  - You need to write programs similar to `NHN_mle`, `NHN_msle`, etc., in the previous homework.\n",
    "\n",
    "\n",
    "3. Save the estimated parameters in a matrix.\n",
    "\n",
    "\n",
    "4. Repeat Step 1 to 3 many times, so you get a big matrix.\n",
    "  - The dimension of the big matrix is k-by-R (or R-by-k), where k is the number of parameters and R is the number of times the simulation is repeated.\n",
    "  - You need to write a simulation program to automate the repetitive process.\n",
    "\n",
    "\n",
    "5. Use the data in the big matrix to calculate the mean, the standard deviation, the minimum, and the maximum of the parameters for a given estimation method.\n",
    "  - `describe()` from the `DataFrames` package would be helpful here.\n",
    "\n",
    "**In the follows, we explain the major steps and specific requirements in detail.**\n"
   ]
  },
  {
   "cell_type": "code",
   "execution_count": 1,
   "id": "9d779dfb",
   "metadata": {},
   "outputs": [],
   "source": [
    "using DataFrames, Random, Distributions, HaltonSequences, FastGaussQuadrature, ForwardDiff, Optim, LinearAlgebra, LineSearches"
   ]
  },
  {
   "cell_type": "markdown",
   "id": "c8a337f7",
   "metadata": {},
   "source": [
    "### The Normal-Truncated Normal Model\n",
    "\n",
    "Call this Model B. It is similar to the Model A (the Normal-Half Normal model) that you have done in the previous homework, though the estimation would be more challenging. The model is\n",
    "\n",
    "\n",
    "\\begin{align}\n",
    " y_i & = \\alpha + x_i' \\beta + v_i - u_i,\\label{eq:front}\\\\\n",
    " v_i & \\sim N(0, \\sigma_v^2), \\\\\n",
    " u_i & \\sim N^+(\\mu, \\sigma_u^2),\\label{eq:ui}\n",
    "\\end{align}\n",
    " \n",
    "\\begin{aligned}\n",
    "L_i =  -\\frac{1}{2}\\ln (\\sigma_v^2 + \\sigma_u^2) + \\ln\n",
    "\\phi\\left(\\frac{\\mu + \\epsilon_i}{\\sqrt{\\sigma_v^2 + \\sigma_u^2}} \\right) +\n",
    "\\ln \\Phi\\left(\\frac{\\mu_{*i}}{\\sigma_*} \\right) -\n",
    "\\ln \\Phi\\left(\\frac{\\mu}{\\sigma_u} \\right),\n",
    "\\end{aligned}\n",
    "\n",
    "\n",
    "where $\\phi(z)$ and $\\Phi(z)$ are the PDF and CDF of a standard normal distribution, and $N^+(\\mu, \\sigma_u^2)$ denotes a positive truncation of the normal distribution $N(\\mu, \\sigma_u^2)$. Also,\n",
    "\n",
    "\\begin{aligned}\n",
    " \\mu_{*i}  = \\frac{ \\sigma_v^2 \\mu-\\sigma_u^2 \\epsilon_i}{\\sigma_v^2 + \\sigma_u^2},\\qquad\n",
    " \\sigma_*^2  = \\frac{\\sigma_v^2  \\sigma_u^2}{\\sigma_v^2 + \\sigma_u^2}. \n",
    "\\end{aligned}"
   ]
  },
  {
   "cell_type": "markdown",
   "id": "5928cea4",
   "metadata": {},
   "source": [
    "### Data Generating Program\n",
    "\n",
    "The function should generate data of $y_i$ and $x_i$, $i=1,\\ldots,N$ according to \\eqref{eq:front} ~ \\eqref{eq:ui}. It is similar to `DGP_nhn` that we used previously.\n",
    "\n",
    "- Name the function `DGP_ntn`.\n",
    "- Hint: To check whether `u` is correctly generated according to $N^+(\\mu, \\sigma_u^2)$: You may generate, say, 100,000 draws of $u$ and see if the mean and the variance of the data are close to the theoretical values.\n",
    "  - In theory, the mean and the variance of $u\\sim N^+(0.5,\\ 2.0)$ are, respectively, $1.33052$ and $0.894977$.\n",
    "  - In theory, the mean and the variance of $u\\sim N^+(1.0,\\ 3.0)$ are, respectively, $1.81447$ and $1.52217$.\n"
   ]
  },
  {
   "cell_type": "code",
   "execution_count": 2,
   "id": "b606bccd",
   "metadata": {},
   "outputs": [
    {
     "data": {
      "text/plain": [
       "DGP_ntn (generic function with 1 method)"
      ]
     },
     "execution_count": 2,
     "metadata": {},
     "output_type": "execute_result"
    }
   ],
   "source": [
    "# a suggested framework for DGP_ntn.\n",
    "function DGP_ntn(; N::Int=10, nofx::Int=1, α=0.5, β::Vector=[0.5], μ=0.0, σᵤ²=1.0, σᵥ²=1.0) \n",
    "    # N: number of observations; \n",
    "    # nofx: number of x variables (excluding the constant α);\n",
    "    # α: the intercept;\n",
    "    # β: the coefficient vectors for $x$;\n",
    "    \n",
    "    length(β) == nofx || throw(\"The length of β should equal nofx.\")\n",
    "    \n",
    "    x = rand(Normal(0,1), N, nofx)\n",
    "    v = rand(Normal(0, sqrt(σᵥ²)), N)\n",
    "    u = quantile(truncated(Normal(μ, sqrt(σᵤ²)); lower = 0), rand(N))\n",
    "    \n",
    "    y = α .+ x * β .+ v .- u\n",
    "    \n",
    "    return y, x   \n",
    "end"
   ]
  },
  {
   "cell_type": "markdown",
   "id": "3178444f",
   "metadata": {},
   "source": [
    "### Write the Log-Likelihood Functions\n",
    "\n",
    "\n",
    "#### Write the function for the MLE approach.\n",
    "Write a Julia function for Model B's log-likelihood that is suitable for estimating using the plain old MLE approach (which is introduced in `Lec13 MLE.ipynb`). \n",
    "\n",
    "  - Name the function `NTN_mle`.\n",
    "  - Hint: Very similar to that of your previous homework.\n",
    "  \n",
    "\n",
    "#### Write the function for the MSLE approach.\n",
    "\n",
    "Write a Julia function for Model B's log-likelihood that is suitable for estimating using the Monte Carlo simulation approach (e.g., MCSA of Section 1.4 in the Lec14 lecture note). The function should have the following specifications.\n",
    "\n",
    "  - Name the function `NTN_msle`.\n",
    "  - Use **quasi** random numbers (instead of pseudo random numbers) for $u_i^s$, $s=1,\\ldots,S$. \n",
    "  - You may use base-2 Halton draws and the suggested number of draws is $2^{10}-1$.\n",
    "  - Hint: Very similar to that in the previous homework, with the exception that you used pseudo random numbers in the previous homework while you should use quasi random numbers here.\n",
    "\n",
    "\n",
    "\n",
    "#### Write the function for the Gaussian quadrature integration approach.\n",
    "\n",
    "Write a Julia function for Model B's log-likelihood that is suitable for estimating using the Guassian quadrature integration approach (e.g., NIA-GQ of Section 1.4.1.1 in the Lec14 lecture note). \n",
    "\n",
    "  - Name the function `NTN_gq`.\n",
    "  - Suggested number of quadrature nodes is $180$.\n",
    "\n",
    "\n",
    "#### Write the function for the quasi Monte Carlo integration approach.\n",
    "\n",
    "Write a Julia function for Model B's log-likelihood that is suitable for estimating using the quasi Monte Carlo integration approach (e.g., NIA-MCI of Section 1.4.1.2 in the Lec14 lecture note). \n",
    "\n",
    "  - Name the function `NTN_qmc`.\n",
    "  - Use the Quasi Monte Carlo method (not the pseudo Monte Carlo method) to do the integration. \n",
    "  - You may use base-2 Halton draws and the suggested number of draws is $2^{10}-1$.\n",
    "\n"
   ]
  },
  {
   "cell_type": "code",
   "execution_count": 3,
   "id": "095f80bd",
   "metadata": {},
   "outputs": [
    {
     "data": {
      "text/plain": [
       "NTN_qmc (generic function with 1 method)"
      ]
     },
     "execution_count": 3,
     "metadata": {},
     "output_type": "execute_result"
    }
   ],
   "source": [
    "function NTN_mle(y, x, α, β, μ, log_σ_u², log_σ_v²)\n",
    "    σ_v² = exp(log_σ_v²)\n",
    "    σ_v = exp(0.5 * log_σ_v²) \n",
    "    σ_u² = exp(log_σ_u²)\n",
    "    σ_u = exp(0.5 * log_σ_u²) \n",
    "    σ_star² = (σ_v² * σ_u²) / (σ_v² + σ_u²)\n",
    "    σ_star = sqrt(σ_star²)\n",
    "    ϵ = y .- α .- x * β\n",
    "    llike = 0.0       \n",
    "    for i in eachindex(ϵ)\n",
    "        μ_star_i = (σ_v² * μ - σ_u² * ϵ[i]) / (σ_v² + σ_u²) \n",
    "        term1 = -log(cdf(Normal(), μ / σ_u))\n",
    "        term2 = -1/2 * log(σ_v² + σ_u²)\n",
    "        term3 = log(pdf(Normal(), (μ + ϵ[i]) / sqrt(σ_v² + σ_u²)))\n",
    "        term4 = log(cdf(Normal(), μ_star_i / σ_star))\n",
    "        llike += term1 + term2 + term3 + term4\n",
    "    end                                                      \n",
    "    return llike = -llike\n",
    "end\n",
    "\n",
    "\n",
    "function NTN_msle(y, x, α, β, μ, log_σ_u², log_σ_v²)\n",
    "    S = 2^10 - 1\n",
    "    σ_v² = exp(log_σ_v²)\n",
    "    σ_v = exp(0.5 * log_σ_v²)\n",
    "    σ_u² = exp(log_σ_u²)\n",
    "    σ_u = exp(0.5 * log_σ_u²)\n",
    "    ϵ = y .- α .- x * β\n",
    "    f(e, sigma_v) = pdf(Normal(0, sigma_v), e)\n",
    "    u_tn = truncated(Normal(μ, σ_u); lower = 0)\n",
    "    quasi = Halton(2, length = S)\n",
    "    u_list = quantile(u_tn, quasi)\n",
    "    logLike = Array{Real}(undef, size(y,1))\n",
    "    for i in 1:size(y,1)\n",
    "        logLike[i] = log(sum(f.(ϵ[i,1] .+ u_list, σ_v)/S))\n",
    "    end\n",
    "    return -sum(logLike)\n",
    "end\n",
    "\n",
    "\n",
    "function NTN_gq(y, x, α, β, μ, log_σ_u², log_σ_v²)\n",
    "    nodes = 180\n",
    "    σ_v² = exp(log_σ_v²)\n",
    "    σ_v = exp(0.5 * log_σ_v²)\n",
    "    σ_u² = exp(log_σ_u²)\n",
    "    σ_u = exp(0.5 * log_σ_u²)\n",
    "    ϵ = y .- α .- x * β\n",
    "    fᵥ(e, sigma_v) = pdf(Normal(0, sigma_v), e)\n",
    "    fᵤ(e, mu, sigma_u) = pdf(truncated(Normal(mu, sigma_u); lower = 0), e)\n",
    "    f̃(p, q, sigmaᵥ, μμ, sigmaᵤ) = exp(q) * fᵥ(p + q, sigmaᵥ) * fᵤ(q, μμ, sigmaᵤ)\n",
    "    logLike = Array{Real}(undef, size(y,1))\n",
    "    xi, wi = gausslaguerre(nodes)\n",
    "    for i in 1:size(y,1)\n",
    "        logLike[i] = log(sum(wi .* f̃.(ϵ[i,1], xi, σ_v, μ, σ_u)))\n",
    "    end\n",
    "    return -sum(logLike)\n",
    "end\n",
    "\n",
    "function NTN_qmc(y, x, α, β, μ, log_σ_u², log_σ_v²)\n",
    "    S = 2^16 - 1\n",
    "    σ_v² = exp(log_σ_v²)\n",
    "    σ_v = exp(0.5 * log_σ_v²)\n",
    "    σ_u² = exp(log_σ_u²)\n",
    "    σ_u = exp(0.5 * log_σ_u²)\n",
    "    ϵ = y .- α .- x * β\n",
    "    fᵥ(e, sigma_v) = pdf(Normal(0, sigma_v), e)\n",
    "    fᵤ(e, mu, sigma_u) = pdf(truncated(Normal(mu, sigma_u); lower = 0), e)\n",
    "    J(t) = 1 / (t - 1)^2\n",
    "    h⁻¹(t) = t / (1 - t)\n",
    "    g(p, q, sigmaᵥ, μμ, sigmaᵤ) = fᵥ(p + h⁻¹(q), sigmaᵥ) * fᵤ(h⁻¹(q), μμ, sigmaᵤ) * J(q)\n",
    "    quasi = Halton(2, length = S)\n",
    "    logLike = Array{Real}(undef, size(y,1))\n",
    "    for i in 1:size(y,1)\n",
    "        logLike[i] = log(sum(g.(ϵ[i,1], quasi, σ_v, μ, σ_u)/S))\n",
    "    end\n",
    "    return -sum(logLike)\n",
    "end"
   ]
  },
  {
   "cell_type": "markdown",
   "id": "f84d091e",
   "metadata": {},
   "source": [
    "### Show using the Indian data that all of the above methods produce similar results.\n",
    "- Show me the coefficients; no need of standard errors and others.\n",
    "- Hint: Strongly suggest using OLS results as the base to construct initial values."
   ]
  },
  {
   "cell_type": "code",
   "execution_count": 4,
   "id": "3bf8255d",
   "metadata": {},
   "outputs": [
    {
     "name": "stdout",
     "output_type": "stream",
     "text": [
      "res =  * Status: success\n",
      "\n",
      " * Candidate solution\n",
      "    Final objective value:     9.160957e+01\n",
      "\n",
      " * Found with\n",
      "    Algorithm:     Newton's Method\n",
      "\n",
      " * Convergence measures\n",
      "    |x - x'|               = 3.25e-07 ≰ 0.0e+00\n",
      "    |x - x'|/|x'|          = 1.01e-07 ≰ 0.0e+00\n",
      "    |f(x) - f(x')|         = 1.01e-12 ≰ 0.0e+00\n",
      "    |f(x) - f(x')|/|f(x')| = 1.10e-14 ≰ 0.0e+00\n",
      "    |g(x)|                 = 5.65e-11 ≤ 1.0e-09\n",
      "\n",
      " * Work counters\n",
      "    Seconds run:   0  (vs limit Inf)\n",
      "    Iterations:    18\n",
      "    f(x) calls:    50\n",
      "    ∇f(x) calls:   50\n",
      "    ∇²f(x) calls:  18\n",
      "\n",
      "The estimation table is\n"
     ]
    },
    {
     "data": {
      "text/plain": [
       "10×3 Matrix{Float64}:\n",
       "  1.53889     0.349306     4.40557\n",
       "  0.293158    0.067602     4.33653\n",
       "  0.239982    0.173592     1.38245\n",
       "  1.14408     0.0824173   13.8815\n",
       " -0.41421     0.0584493   -7.08666\n",
       "  0.00702936  0.0127031    0.553358\n",
       "  0.0331732   0.00778711   4.26001\n",
       " -3.22249     7.49086     -0.43019\n",
       "  1.20706     2.22921      0.541477\n",
       "  0.0419195   0.011068     3.78746"
      ]
     },
     "metadata": {},
     "output_type": "display_data"
    },
    {
     "name": "stdout",
     "output_type": "stream",
     "text": [
      "res =  * Status: success\n",
      "\n",
      " * Candidate solution\n",
      "    Final objective value:     9.147583e+01\n",
      "\n",
      " * Found with\n",
      "    Algorithm:     Newton's Method\n",
      "\n",
      " * Convergence measures\n",
      "    |x - x'|               = 4.76e-11 ≰ 0.0e+00\n",
      "    |x - x'|/|x'|          = 1.48e-11 ≰ 0.0e+00\n",
      "    |f(x) - f(x')|         = 7.26e-12 ≰ 0.0e+00\n",
      "    |f(x) - f(x')|/|f(x')| = 7.94e-14 ≰ 0.0e+00\n",
      "    |g(x)|                 = 3.31e-10 ≤ 1.0e-09\n",
      "\n",
      " * Work counters\n",
      "    Seconds run:   16  (vs limit Inf)\n",
      "    Iterations:    29\n",
      "    f(x) calls:    78\n",
      "    ∇f(x) calls:   78\n",
      "    ∇²f(x) calls:  29\n",
      "\n",
      "The estimation table is\n"
     ]
    },
    {
     "data": {
      "text/plain": [
       "10×3 Matrix{Float64}:\n",
       "  1.53904     0.349323     4.40579\n",
       "  0.293156    0.0676028    4.33645\n",
       "  0.239984    0.173599     1.38241\n",
       "  1.1441      0.0824104   13.8829\n",
       " -0.414225    0.0584469   -7.0872\n",
       "  0.00702902  0.0127031    0.553331\n",
       "  0.033174    0.00778647   4.26047\n",
       " -3.20604     7.40091     -0.433195\n",
       "  1.2019      2.20123      0.546015\n",
       "  0.0419191   0.01107      3.78674"
      ]
     },
     "metadata": {},
     "output_type": "display_data"
    },
    {
     "name": "stdout",
     "output_type": "stream",
     "text": [
      "res =  * Status: success (objective increased between iterations)\n",
      "\n",
      " * Candidate solution\n",
      "    Final objective value:     9.160966e+01\n",
      "\n",
      " * Found with\n",
      "    Algorithm:     Newton's Method\n",
      "\n",
      " * Convergence measures\n",
      "    |x - x'|               = 8.26e-08 ≰ 0.0e+00\n",
      "    |x - x'|/|x'|          = 2.56e-08 ≰ 0.0e+00\n",
      "    |f(x) - f(x')|         = 2.42e-13 ≰ 0.0e+00\n",
      "    |f(x) - f(x')|/|f(x')| = 2.64e-15 ≰ 0.0e+00\n",
      "    |g(x)|                 = 2.91e-11 ≤ 1.0e-09\n",
      "\n",
      " * Work counters\n",
      "    Seconds run:   3  (vs limit Inf)\n",
      "    Iterations:    19\n",
      "    f(x) calls:    55\n",
      "    ∇f(x) calls:   55\n",
      "    ∇²f(x) calls:  19\n",
      "\n",
      "The estimation table is\n"
     ]
    },
    {
     "data": {
      "text/plain": [
       "10×3 Matrix{Float64}:\n",
       "  1.53893     0.349368     4.40489\n",
       "  0.293162    0.0676053    4.33637\n",
       "  0.240007    0.173617     1.38239\n",
       "  1.14407     0.082437    13.8781\n",
       " -0.4142      0.0584619   -7.08496\n",
       "  0.00702979  0.0127035    0.553374\n",
       "  0.0331715   0.00778961   4.25843\n",
       " -3.22409     7.49532     -0.430147\n",
       "  1.20759     2.23055      0.541386\n",
       "  0.0419192   0.0110728    3.78578"
      ]
     },
     "metadata": {},
     "output_type": "display_data"
    },
    {
     "name": "stdout",
     "output_type": "stream",
     "text": [
      "res =  * Status: success\n",
      "\n",
      " * Candidate solution\n",
      "    Final objective value:     9.161150e+01\n",
      "\n",
      " * Found with\n",
      "    Algorithm:     Newton's Method\n",
      "\n",
      " * Convergence measures\n",
      "    |x - x'|               = 4.67e-09 ≰ 0.0e+00\n",
      "    |x - x'|/|x'|          = 1.46e-09 ≰ 0.0e+00\n",
      "    |f(x) - f(x')|         = 1.71e-13 ≰ 0.0e+00\n",
      "    |f(x) - f(x')|/|f(x')| = 1.86e-15 ≰ 0.0e+00\n",
      "    |g(x)|                 = 4.72e-11 ≤ 1.0e-09\n",
      "\n",
      " * Work counters\n",
      "    Seconds run:   1149  (vs limit Inf)\n",
      "    Iterations:    19\n",
      "    f(x) calls:    55\n",
      "    ∇f(x) calls:   55\n",
      "    ∇²f(x) calls:  19\n",
      "\n",
      "The estimation table is\n"
     ]
    },
    {
     "data": {
      "text/plain": [
       "10×3 Matrix{Float64}:\n",
       "  1.53903     0.349291     4.40614\n",
       "  0.293158    0.0676023    4.33651\n",
       "  0.240004    0.173592     1.38258\n",
       "  1.14406     0.082415    13.8817\n",
       " -0.4142      0.058449    -7.08652\n",
       "  0.00703039  0.0127031    0.553438\n",
       "  0.0331716   0.00778704   4.25986\n",
       " -3.21054     7.44834     -0.431041\n",
       "  1.20363     2.21683      0.54295\n",
       "  0.0419065   0.0110648    3.78738"
      ]
     },
     "metadata": {},
     "output_type": "display_data"
    }
   ],
   "source": [
    "using DataFrames, CSV\n",
    "df = DataFrame(CSV.File(\"sampledata.csv\"))\n",
    "y = df[:, \"yvar\"]       # the dep var\n",
    "x = Matrix(df[:, 2:7])  # the indep vars, not including a constant\n",
    "\n",
    "x2=hcat(ones(size(y,1), 1), x); ols=inv(x2'x2)*(x2'y)\n",
    "\n",
    "nofxvar = 6\n",
    "\n",
    "func = TwiceDifferentiable(vars -> NTN_mle(y, x, vars[1], vars[2:nofxvar+1], vars[end - 2], vars[end - 1], vars[end]),\n",
    "                           ones(nofxvar + 4); autodiff = :forward)\n",
    "\n",
    "res = optimize(func, vcat(ols, 0.1126 * ones(3)), Newton(),\n",
    "                Optim.Options(g_tol = 1e-9,\n",
    "                              iterations = 1126) )\n",
    "@show res\n",
    "\n",
    "_coevec = Optim.minimizer(res)\n",
    "res_coeff = deepcopy(_coevec)\n",
    "res_coeff[end - 1] = exp(res_coeff[end - 1]) \n",
    "res_coeff[end] = exp(res_coeff[end])  \n",
    "\n",
    "res_Hessian = Optim.hessian!(func, _coevec)  \n",
    "\n",
    "var_cov_matrix = inv(res_Hessian)             \n",
    "stderror = sqrt.(diag(var_cov_matrix))\n",
    "stderror[end - 1] = res_coeff[end - 1] * stderror[end - 1]\n",
    "stderror[end] = res_coeff[end] * stderror[end]  \n",
    "t_stats = res_coeff ./ stderror\n",
    "res_table = hcat(res_coeff, stderror, t_stats)\n",
    "\n",
    "println(\"The estimation table is\")\n",
    "res_table |> display\n",
    "\n",
    "func = TwiceDifferentiable(vars -> NTN_msle(y, x, vars[1], vars[2:nofxvar+1], vars[end - 2], vars[end - 1], vars[end]),\n",
    "                           ones(nofxvar + 4); autodiff = :forward)\n",
    "\n",
    "res = optimize(func, vcat(ols, 0.1126 * ones(3)), Newton(),\n",
    "                Optim.Options(g_tol = 1e-9,\n",
    "                              iterations = 1126) )\n",
    "@show res\n",
    "\n",
    "_coevec = Optim.minimizer(res)\n",
    "res_coeff = deepcopy(_coevec)\n",
    "res_coeff[end - 1] = exp(res_coeff[end - 1]) \n",
    "res_coeff[end] = exp(res_coeff[end])  \n",
    "\n",
    "res_Hessian = Optim.hessian!(func, _coevec)\n",
    "\n",
    "var_cov_matrix = inv(res_Hessian)         \n",
    "stderror = sqrt.(diag(var_cov_matrix)) \n",
    "stderror[end - 1] = res_coeff[end - 1] * stderror[end - 1]\n",
    "stderror[end] = res_coeff[end] * stderror[end]  \n",
    "t_stats = res_coeff ./ stderror\n",
    "res_table = hcat(res_coeff, stderror, t_stats)\n",
    "\n",
    "println(\"The estimation table is\")\n",
    "res_table |> display\n",
    "\n",
    "func = TwiceDifferentiable(vars -> NTN_gq(y, x, vars[1], vars[2:nofxvar+1], vars[end - 2], vars[end - 1], vars[end]),\n",
    "                           ones(nofxvar + 4); autodiff = :forward)\n",
    "\n",
    "res = optimize(func, vcat(ols, 0.1126 * ones(3)), Newton(),\n",
    "                Optim.Options(g_tol = 1e-9,\n",
    "                              iterations = 1126) )\n",
    "@show res\n",
    "\n",
    "_coevec = Optim.minimizer(res)\n",
    "res_coeff = deepcopy(_coevec)\n",
    "res_coeff[end - 1] = exp(res_coeff[end - 1]) \n",
    "res_coeff[end] = exp(res_coeff[end])  \n",
    "\n",
    "res_Hessian = Optim.hessian!(func, _coevec)\n",
    "\n",
    "var_cov_matrix = inv(res_Hessian)         \n",
    "stderror = sqrt.(diag(var_cov_matrix)) \n",
    "stderror[end - 1] = res_coeff[end - 1] * stderror[end - 1]\n",
    "stderror[end] = res_coeff[end] * stderror[end]  \n",
    "t_stats = res_coeff ./ stderror\n",
    "res_table = hcat(res_coeff, stderror, t_stats)\n",
    "\n",
    "println(\"The estimation table is\")\n",
    "res_table |> display\n",
    "\n",
    "func = TwiceDifferentiable(vars -> NTN_qmc(y, x, vars[1], vars[2:nofxvar+1], vars[end - 2], vars[end - 1], vars[end]),\n",
    "                           ones(nofxvar + 4); autodiff = :forward)\n",
    "\n",
    "res = optimize(func, vcat(ols, 0.1126 * ones(3)), Newton(),\n",
    "                Optim.Options(g_tol = 1e-9,\n",
    "                              iterations = 1126) )\n",
    "@show res\n",
    "\n",
    "_coevec = Optim.minimizer(res)\n",
    "res_coeff = deepcopy(_coevec)\n",
    "res_coeff[end - 1] = exp(res_coeff[end - 1]) \n",
    "res_coeff[end] = exp(res_coeff[end])  \n",
    "\n",
    "res_Hessian = Optim.hessian!(func, _coevec)\n",
    "\n",
    "var_cov_matrix = inv(res_Hessian)         \n",
    "stderror = sqrt.(diag(var_cov_matrix)) \n",
    "stderror[end - 1] = res_coeff[end - 1] * stderror[end - 1]\n",
    "stderror[end] = res_coeff[end] * stderror[end]  \n",
    "t_stats = res_coeff ./ stderror\n",
    "res_table = hcat(res_coeff, stderror, t_stats)\n",
    "\n",
    "println(\"The estimation table is\")\n",
    "res_table |> display"
   ]
  },
  {
   "cell_type": "markdown",
   "id": "cd35df40",
   "metadata": {},
   "source": [
    "### Write the Simulation Function\n",
    "\n",
    "#### What is a simulation function\n",
    "\n",
    "A simulation function is essentially a computer program that allows us to create a virtual environment where we can model and replicate various scenarios, processes, or systems. This can help us predict outcomes, test theories, or understand the potential impact of different variables on a particular system. \n",
    "\n",
    "In the context of statistics and data science, a simulation function is often used to generate random data samples according to a certain distribution or model, perform some sort of analysis on that data (like estimate a statistical model), and then record the results. By repeating this process many times, we can understand the potential variability in our results or test the performance of our analysis method under different conditions. \n",
    "\n",
    "In this project, you are asked to write a simulation function that will:\n",
    "\n",
    "1. Draw random samples of data for Model B.\n",
    "\n",
    "2. Estimate Model B using one of the estimation methods.\n",
    "\n",
    "3. Save the estimated parameters in a big matrix.\n",
    "\n",
    "4. Repeat the entire process for $R$ times where $R$ is the number of simulation runs.\n",
    "\n",
    "By doing this with a sufficiently large $R$ (such as 1,000), you essentially create a distribution of possible outcomes of the estimates, which they can then be analyzed to gain insights about the characteristics of the estimation method (e.g., its bias, variance, or robustness to certain conditions).\n",
    "\n",
    "\n",
    "#### Required Specs:\n",
    "\n",
    "- Need a random seed such that the results could be re-produced.\n",
    "- You may use true values as the initial values.\n",
    "- Check if the iteration limit is reached.\n",
    "- Check the convergence criterion based on the norm of gradients."
   ]
  },
  {
   "cell_type": "code",
   "execution_count": 5,
   "id": "f05cd1cf",
   "metadata": {},
   "outputs": [
    {
     "data": {
      "text/plain": [
       "runSim (generic function with 1 method)"
      ]
     },
     "execution_count": 5,
     "metadata": {},
     "output_type": "execute_result"
    }
   ],
   "source": [
    "###### suggested framework for the simulation function\n",
    "\n",
    "function runSim(pgm::Function; R::Int=10,  N::Int=100, nofx::Int=1, α=0.5, \n",
    "                β::Vector=[0.5], μ=0.0, σᵤ²=2.0, σᵥ²=1.0, maxit=50, gtol=1e-7, seed::Int=33668324)\n",
    "    # pgm: NTN_mle, NTN_msle, etc.\n",
    "    # R: number of iteration times\n",
    "    # N, nofx, α, β, μ, σᵤ², σᵥ²: parameters pertaining to DGP_ntn\n",
    "    # maxit, gtol: parameters for optimization\n",
    "    \n",
    "    \n",
    "    Random.seed!(seed)\n",
    "    cnt = 0\n",
    "    coeff_matrix = 0\n",
    "    \n",
    "    while cnt < R\n",
    "        y, x = DGP_ntn(N = N, nofx = nofx, α = α, β = β, μ = μ, σᵤ² = σᵤ², σᵥ² = σᵥ²)\n",
    "#         @show y\n",
    "#         @show x\n",
    "#         x2 = hcat(ones(size(y,1), 1), x); ols = inv(x2'x2)*(x2'y)\n",
    "#         vcat(α * ones(1), β, μ * ones(1), σᵤ² * ones(1), σᵥ² * ones(1)), Newton(linesearch = LineSearches.BackTracking()\n",
    "#         @show cnt\n",
    "        \n",
    "        func = TwiceDifferentiable(vars -> pgm(y, x, vars[1], vars[2:nofx+1], vars[end - 2], vars[end - 1], vars[end]),\n",
    "                           ones(nofx + 4); autodiff = :forward)\n",
    "        res = optimize(func, 0.1126 * ones(nofx + 4), Newton(),\n",
    "                Optim.Options(g_tol = gtol,\n",
    "                              iterations = maxit) )\n",
    "#         @show res\n",
    "        if (res.g_residual <= gtol) & (res.iterations < maxit)\n",
    "            if cnt == 0\n",
    "                _coevec = Optim.minimizer(res)\n",
    "                res_coeff = deepcopy(_coevec)\n",
    "                res_coeff[end - 1] = exp(res_coeff[end - 1]) \n",
    "                res_coeff[end] = exp(res_coeff[end])\n",
    "                coeff_matrix = deepcopy(res_coeff)\n",
    "            else\n",
    "                _coevec = Optim.minimizer(res)\n",
    "                res_coeff = deepcopy(_coevec)\n",
    "                res_coeff[end - 1] = exp(res_coeff[end - 1]) \n",
    "                res_coeff[end] = exp(res_coeff[end])\n",
    "                coeff_matrix = hcat(coeff_matrix, res_coeff)\n",
    "            end\n",
    "            cnt += 1\n",
    "        end\n",
    "    end\n",
    "    \n",
    "    return coeff_matrix\n",
    "end"
   ]
  },
  {
   "attachments": {
    "image.png": {
     "image/png": "[encoded data removed]"
    }
   },
   "cell_type": "markdown",
   "id": "82abd68b",
   "metadata": {},
   "source": [
    "### Run Simulations\n",
    "\n",
    "- You need to run four sets of simulations, with the parameters specified in the following code box. Note that only the first set, which uses `NTN_mle`, would require $R=1000$. The other three sets would run $R=10$.\n",
    "\n",
    "- For each set, produce a DataFrame table with the summary statistics of the estimates, including the mean, the standard deviation, the minimum, and the maximum.\n",
    "  - Hint: Use `describe()` (e.g., `describe(df, :mean, :std, :min, :max)`) and produce something like the follows (you may ignore the last two rows).\n",
    "  \n",
    "![image.png](attachment:image.png)"
   ]
  },
  {
   "cell_type": "code",
   "execution_count": 50,
   "id": "0a1821e5",
   "metadata": {},
   "outputs": [
    {
     "data": {
      "text/plain": [
       "5-element Vector{String}:\n",
       " \"α\"\n",
       " \"β1\"\n",
       " \"μ\"\n",
       " \"σᵤ²\"\n",
       " \"σᵥ²\""
      ]
     },
     "execution_count": 50,
     "metadata": {},
     "output_type": "execute_result"
    }
   ],
   "source": [
    "nofx = 1\n",
    "variables = String[]\n",
    "push!(variables,\"α\")\n",
    "for i in 1:nofx\n",
    "    push!(variables, \"β$i\")\n",
    "end\n",
    "push!(variables,\"μ\")\n",
    "push!(variables, \"σᵤ²\")\n",
    "push!(variables, \"σᵥ²\")"
   ]
  },
  {
   "cell_type": "code",
   "execution_count": 51,
   "id": "e17416c4",
   "metadata": {},
   "outputs": [
    {
     "data": {
      "text/html": [
       "<div><div style = \"float: left;\"><span>5×5 DataFrame</span></div><div style = \"clear: both;\"></div></div><div class = \"data-frame\" style = \"overflow-x: scroll;\"><table class = \"data-frame\" style = \"margin-bottom: 6px;\"><thead><tr class = \"header\"><th class = \"rowNumber\" style = \"font-weight: bold; text-align: right;\">Row</th><th style = \"text-align: left;\">variable</th><th style = \"text-align: left;\">mean</th><th style = \"text-align: left;\">std</th><th style = \"text-align: left;\">min</th><th style = \"text-align: left;\">max</th></tr><tr class = \"subheader headerLastRow\"><th class = \"rowNumber\" style = \"font-weight: bold; text-align: right;\"></th><th title = \"Symbol\" style = \"text-align: left;\">Symbol</th><th title = \"Float64\" style = \"text-align: left;\">Float64</th><th title = \"Float64\" style = \"text-align: left;\">Float64</th><th title = \"Float64\" style = \"text-align: left;\">Float64</th><th title = \"Float64\" style = \"text-align: left;\">Float64</th></tr></thead><tbody><tr><td class = \"rowNumber\" style = \"font-weight: bold; text-align: right;\">1</td><td style = \"text-align: left;\">α</td><td style = \"text-align: right;\">0.589707</td><td style = \"text-align: right;\">0.61343</td><td style = \"text-align: right;\">-0.84781</td><td style = \"text-align: right;\">10.042</td></tr><tr><td class = \"rowNumber\" style = \"font-weight: bold; text-align: right;\">2</td><td style = \"text-align: left;\">β1</td><td style = \"text-align: right;\">0.503959</td><td style = \"text-align: right;\">0.0822375</td><td style = \"text-align: right;\">0.267263</td><td style = \"text-align: right;\">0.835614</td></tr><tr><td class = \"rowNumber\" style = \"font-weight: bold; text-align: right;\">3</td><td style = \"text-align: left;\">μ</td><td style = \"text-align: right;\">1.76523</td><td style = \"text-align: right;\">1.81405</td><td style = \"text-align: right;\">-16.9361</td><td style = \"text-align: right;\">12.4656</td></tr><tr><td class = \"rowNumber\" style = \"font-weight: bold; text-align: right;\">4</td><td style = \"text-align: left;\">σᵤ²</td><td style = \"text-align: right;\">5.57274</td><td style = \"text-align: right;\">2.17495</td><td style = \"text-align: right;\">0.25992</td><td style = \"text-align: right;\">33.7703</td></tr><tr><td class = \"rowNumber\" style = \"font-weight: bold; text-align: right;\">5</td><td style = \"text-align: left;\">σᵥ²</td><td style = \"text-align: right;\">0.925106</td><td style = \"text-align: right;\">0.460927</td><td style = \"text-align: right;\">0.00636952</td><td style = \"text-align: right;\">3.88694</td></tr></tbody></table></div>"
      ],
      "text/latex": [
       "\\begin{tabular}{r|ccccc}\n",
       "\t& variable & mean & std & min & max\\\\\n",
       "\t\\hline\n",
       "\t& Symbol & Float64 & Float64 & Float64 & Float64\\\\\n",
       "\t\\hline\n",
       "\t1 & α & 0.589707 & 0.61343 & -0.84781 & 10.042 \\\\\n",
       "\t2 & β1 & 0.503959 & 0.0822375 & 0.267263 & 0.835614 \\\\\n",
       "\t3 & μ & 1.76523 & 1.81405 & -16.9361 & 12.4656 \\\\\n",
       "\t4 & σᵤ² & 5.57274 & 2.17495 & 0.25992 & 33.7703 \\\\\n",
       "\t5 & σᵥ² & 0.925106 & 0.460927 & 0.00636952 & 3.88694 \\\\\n",
       "\\end{tabular}\n"
      ],
      "text/plain": [
       "\u001b[1m5×5 DataFrame\u001b[0m\n",
       "\u001b[1m Row \u001b[0m│\u001b[1m variable \u001b[0m\u001b[1m mean     \u001b[0m\u001b[1m std       \u001b[0m\u001b[1m min          \u001b[0m\u001b[1m max       \u001b[0m\n",
       "     │\u001b[90m Symbol   \u001b[0m\u001b[90m Float64  \u001b[0m\u001b[90m Float64   \u001b[0m\u001b[90m Float64      \u001b[0m\u001b[90m Float64   \u001b[0m\n",
       "─────┼────────────────────────────────────────────────────────\n",
       "   1 │ α         0.589707  0.61343     -0.84781     10.042\n",
       "   2 │ β1        0.503959  0.0822375    0.267263     0.835614\n",
       "   3 │ μ         1.76523   1.81405    -16.9361      12.4656\n",
       "   4 │ σᵤ²       5.57274   2.17495      0.25992     33.7703\n",
       "   5 │ σᵥ²       0.925106  0.460927     0.00636952   3.88694"
      ]
     },
     "execution_count": 51,
     "metadata": {},
     "output_type": "execute_result"
    }
   ],
   "source": [
    "##### NTN_mle simulation\n",
    "##### Use parameters specified in the example.\n",
    "        \n",
    "myres1 = runSim(NTN_mle, R=1000, N=500, nofx=1, α=0.5, β=[0.5], μ=2.0, \n",
    "               σᵤ²=5.0, σᵥ²=1.0, gtol=1e-7, maxit=30, seed=1126)\n",
    "\n",
    "myres1 = transpose(myres1)\n",
    "\n",
    "myres1 = DataFrame(myres1, :auto)\n",
    "rename!(myres1, [\"x$i\" => vbs for (i, vbs) in enumerate(variables)])\n",
    "\n",
    "describe(myres1, :mean, :std, :min, :max)\n",
    "###### Produce a DataFrame table with the summary statistics.\n",
    "                \n",
    "        "
   ]
  },
  {
   "cell_type": "code",
   "execution_count": 52,
   "id": "f7f9ecb9",
   "metadata": {},
   "outputs": [
    {
     "data": {
      "text/html": [
       "<div><div style = \"float: left;\"><span>5×5 DataFrame</span></div><div style = \"clear: both;\"></div></div><div class = \"data-frame\" style = \"overflow-x: scroll;\"><table class = \"data-frame\" style = \"margin-bottom: 6px;\"><thead><tr class = \"header\"><th class = \"rowNumber\" style = \"font-weight: bold; text-align: right;\">Row</th><th style = \"text-align: left;\">variable</th><th style = \"text-align: left;\">mean</th><th style = \"text-align: left;\">std</th><th style = \"text-align: left;\">min</th><th style = \"text-align: left;\">max</th></tr><tr class = \"subheader headerLastRow\"><th class = \"rowNumber\" style = \"font-weight: bold; text-align: right;\"></th><th title = \"Symbol\" style = \"text-align: left;\">Symbol</th><th title = \"Float64\" style = \"text-align: left;\">Float64</th><th title = \"Float64\" style = \"text-align: left;\">Float64</th><th title = \"Float64\" style = \"text-align: left;\">Float64</th><th title = \"Float64\" style = \"text-align: left;\">Float64</th></tr></thead><tbody><tr><td class = \"rowNumber\" style = \"font-weight: bold; text-align: right;\">1</td><td style = \"text-align: left;\">α</td><td style = \"text-align: right;\">0.282399</td><td style = \"text-align: right;\">0.663709</td><td style = \"text-align: right;\">-0.793937</td><td style = \"text-align: right;\">1.4359</td></tr><tr><td class = \"rowNumber\" style = \"font-weight: bold; text-align: right;\">2</td><td style = \"text-align: left;\">β1</td><td style = \"text-align: right;\">0.530296</td><td style = \"text-align: right;\">0.0819015</td><td style = \"text-align: right;\">0.342433</td><td style = \"text-align: right;\">0.648941</td></tr><tr><td class = \"rowNumber\" style = \"font-weight: bold; text-align: right;\">3</td><td style = \"text-align: left;\">μ</td><td style = \"text-align: right;\">0.917961</td><td style = \"text-align: right;\">1.89931</td><td style = \"text-align: right;\">-3.3326</td><td style = \"text-align: right;\">3.2546</td></tr><tr><td class = \"rowNumber\" style = \"font-weight: bold; text-align: right;\">4</td><td style = \"text-align: left;\">σᵤ²</td><td style = \"text-align: right;\">6.10205</td><td style = \"text-align: right;\">1.63115</td><td style = \"text-align: right;\">4.29022</td><td style = \"text-align: right;\">8.70616</td></tr><tr><td class = \"rowNumber\" style = \"font-weight: bold; text-align: right;\">5</td><td style = \"text-align: left;\">σᵥ²</td><td style = \"text-align: right;\">1.13304</td><td style = \"text-align: right;\">0.633113</td><td style = \"text-align: right;\">0.335471</td><td style = \"text-align: right;\">2.38472</td></tr></tbody></table></div>"
      ],
      "text/latex": [
       "\\begin{tabular}{r|ccccc}\n",
       "\t& variable & mean & std & min & max\\\\\n",
       "\t\\hline\n",
       "\t& Symbol & Float64 & Float64 & Float64 & Float64\\\\\n",
       "\t\\hline\n",
       "\t1 & α & 0.282399 & 0.663709 & -0.793937 & 1.4359 \\\\\n",
       "\t2 & β1 & 0.530296 & 0.0819015 & 0.342433 & 0.648941 \\\\\n",
       "\t3 & μ & 0.917961 & 1.89931 & -3.3326 & 3.2546 \\\\\n",
       "\t4 & σᵤ² & 6.10205 & 1.63115 & 4.29022 & 8.70616 \\\\\n",
       "\t5 & σᵥ² & 1.13304 & 0.633113 & 0.335471 & 2.38472 \\\\\n",
       "\\end{tabular}\n"
      ],
      "text/plain": [
       "\u001b[1m5×5 DataFrame\u001b[0m\n",
       "\u001b[1m Row \u001b[0m│\u001b[1m variable \u001b[0m\u001b[1m mean     \u001b[0m\u001b[1m std       \u001b[0m\u001b[1m min       \u001b[0m\u001b[1m max      \u001b[0m\n",
       "     │\u001b[90m Symbol   \u001b[0m\u001b[90m Float64  \u001b[0m\u001b[90m Float64   \u001b[0m\u001b[90m Float64   \u001b[0m\u001b[90m Float64  \u001b[0m\n",
       "─────┼────────────────────────────────────────────────────\n",
       "   1 │ α         0.282399  0.663709   -0.793937  1.4359\n",
       "   2 │ β1        0.530296  0.0819015   0.342433  0.648941\n",
       "   3 │ μ         0.917961  1.89931    -3.3326    3.2546\n",
       "   4 │ σᵤ²       6.10205   1.63115     4.29022   8.70616\n",
       "   5 │ σᵥ²       1.13304   0.633113    0.335471  2.38472"
      ]
     },
     "execution_count": 52,
     "metadata": {},
     "output_type": "execute_result"
    }
   ],
   "source": [
    "##### NTN_msle simulation\n",
    "##### Use parameters specified in the example.\n",
    "        \n",
    "myres2 = runSim(NTN_msle, R=10, N=500, nofx=1, α=0.5, β=[0.5], μ=2.0, \n",
    "               σᵤ²=5.0, σᵥ²=1.0, gtol=1e-7, maxit=30, seed=1126)\n",
    "\n",
    "myres2 = transpose(myres2)\n",
    "\n",
    "myres2 = DataFrame(myres2, :auto)\n",
    "rename!(myres2, [\"x$i\" => vbs for (i, vbs) in enumerate(variables)])\n",
    "\n",
    "describe(myres2, :mean, :std, :min, :max)\n",
    "###### Produce a DataFrame table with the summary statistics.\n",
    "                "
   ]
  },
  {
   "cell_type": "code",
   "execution_count": 53,
   "id": "cc5314da",
   "metadata": {},
   "outputs": [
    {
     "data": {
      "text/html": [
       "<div><div style = \"float: left;\"><span>5×5 DataFrame</span></div><div style = \"clear: both;\"></div></div><div class = \"data-frame\" style = \"overflow-x: scroll;\"><table class = \"data-frame\" style = \"margin-bottom: 6px;\"><thead><tr class = \"header\"><th class = \"rowNumber\" style = \"font-weight: bold; text-align: right;\">Row</th><th style = \"text-align: left;\">variable</th><th style = \"text-align: left;\">mean</th><th style = \"text-align: left;\">std</th><th style = \"text-align: left;\">min</th><th style = \"text-align: left;\">max</th></tr><tr class = \"subheader headerLastRow\"><th class = \"rowNumber\" style = \"font-weight: bold; text-align: right;\"></th><th title = \"Symbol\" style = \"text-align: left;\">Symbol</th><th title = \"Float64\" style = \"text-align: left;\">Float64</th><th title = \"Float64\" style = \"text-align: left;\">Float64</th><th title = \"Float64\" style = \"text-align: left;\">Float64</th><th title = \"Float64\" style = \"text-align: left;\">Float64</th></tr></thead><tbody><tr><td class = \"rowNumber\" style = \"font-weight: bold; text-align: right;\">1</td><td style = \"text-align: left;\">α</td><td style = \"text-align: right;\">0.362604</td><td style = \"text-align: right;\">0.70771</td><td style = \"text-align: right;\">-0.719558</td><td style = \"text-align: right;\">1.63763</td></tr><tr><td class = \"rowNumber\" style = \"font-weight: bold; text-align: right;\">2</td><td style = \"text-align: left;\">β1</td><td style = \"text-align: right;\">0.531329</td><td style = \"text-align: right;\">0.0778774</td><td style = \"text-align: right;\">0.362197</td><td style = \"text-align: right;\">0.653364</td></tr><tr><td class = \"rowNumber\" style = \"font-weight: bold; text-align: right;\">3</td><td style = \"text-align: left;\">μ</td><td style = \"text-align: right;\">1.24961</td><td style = \"text-align: right;\">1.60625</td><td style = \"text-align: right;\">-1.85015</td><td style = \"text-align: right;\">3.50642</td></tr><tr><td class = \"rowNumber\" style = \"font-weight: bold; text-align: right;\">4</td><td style = \"text-align: left;\">σᵤ²</td><td style = \"text-align: right;\">5.69718</td><td style = \"text-align: right;\">1.4118</td><td style = \"text-align: right;\">4.07732</td><td style = \"text-align: right;\">8.35025</td></tr><tr><td class = \"rowNumber\" style = \"font-weight: bold; text-align: right;\">5</td><td style = \"text-align: left;\">σᵥ²</td><td style = \"text-align: right;\">1.07515</td><td style = \"text-align: right;\">0.66089</td><td style = \"text-align: right;\">0.182222</td><td style = \"text-align: right;\">2.37578</td></tr></tbody></table></div>"
      ],
      "text/latex": [
       "\\begin{tabular}{r|ccccc}\n",
       "\t& variable & mean & std & min & max\\\\\n",
       "\t\\hline\n",
       "\t& Symbol & Float64 & Float64 & Float64 & Float64\\\\\n",
       "\t\\hline\n",
       "\t1 & α & 0.362604 & 0.70771 & -0.719558 & 1.63763 \\\\\n",
       "\t2 & β1 & 0.531329 & 0.0778774 & 0.362197 & 0.653364 \\\\\n",
       "\t3 & μ & 1.24961 & 1.60625 & -1.85015 & 3.50642 \\\\\n",
       "\t4 & σᵤ² & 5.69718 & 1.4118 & 4.07732 & 8.35025 \\\\\n",
       "\t5 & σᵥ² & 1.07515 & 0.66089 & 0.182222 & 2.37578 \\\\\n",
       "\\end{tabular}\n"
      ],
      "text/plain": [
       "\u001b[1m5×5 DataFrame\u001b[0m\n",
       "\u001b[1m Row \u001b[0m│\u001b[1m variable \u001b[0m\u001b[1m mean     \u001b[0m\u001b[1m std       \u001b[0m\u001b[1m min       \u001b[0m\u001b[1m max      \u001b[0m\n",
       "     │\u001b[90m Symbol   \u001b[0m\u001b[90m Float64  \u001b[0m\u001b[90m Float64   \u001b[0m\u001b[90m Float64   \u001b[0m\u001b[90m Float64  \u001b[0m\n",
       "─────┼────────────────────────────────────────────────────\n",
       "   1 │ α         0.362604  0.70771    -0.719558  1.63763\n",
       "   2 │ β1        0.531329  0.0778774   0.362197  0.653364\n",
       "   3 │ μ         1.24961   1.60625    -1.85015   3.50642\n",
       "   4 │ σᵤ²       5.69718   1.4118      4.07732   8.35025\n",
       "   5 │ σᵥ²       1.07515   0.66089     0.182222  2.37578"
      ]
     },
     "execution_count": 53,
     "metadata": {},
     "output_type": "execute_result"
    }
   ],
   "source": [
    "##### NTN_gq simulation\n",
    "##### Use parameters specified in the example.\n",
    "        \n",
    "myres3 = runSim(NTN_gq, R=10, N=500, nofx=1, α=0.5, β=[0.5], μ=2.0, \n",
    "               σᵤ²=5.0, σᵥ²=1.0, gtol=1e-7, maxit=30, seed=1126)\n",
    "\n",
    "myres3 = transpose(myres3)\n",
    "\n",
    "myres3 = DataFrame(myres3, :auto)\n",
    "rename!(myres3, [\"x$i\" => vbs for (i, vbs) in enumerate(variables)])\n",
    "\n",
    "describe(myres3, :mean, :std, :min, :max)\n",
    "###### Produce a DataFrame table with the summary statistics.\n",
    "                "
   ]
  },
  {
   "cell_type": "code",
   "execution_count": 54,
   "id": "dcf82f65",
   "metadata": {},
   "outputs": [
    {
     "data": {
      "text/html": [
       "<div><div style = \"float: left;\"><span>5×5 DataFrame</span></div><div style = \"clear: both;\"></div></div><div class = \"data-frame\" style = \"overflow-x: scroll;\"><table class = \"data-frame\" style = \"margin-bottom: 6px;\"><thead><tr class = \"header\"><th class = \"rowNumber\" style = \"font-weight: bold; text-align: right;\">Row</th><th style = \"text-align: left;\">variable</th><th style = \"text-align: left;\">mean</th><th style = \"text-align: left;\">std</th><th style = \"text-align: left;\">min</th><th style = \"text-align: left;\">max</th></tr><tr class = \"subheader headerLastRow\"><th class = \"rowNumber\" style = \"font-weight: bold; text-align: right;\"></th><th title = \"Symbol\" style = \"text-align: left;\">Symbol</th><th title = \"Float64\" style = \"text-align: left;\">Float64</th><th title = \"Float64\" style = \"text-align: left;\">Float64</th><th title = \"Float64\" style = \"text-align: left;\">Float64</th><th title = \"Float64\" style = \"text-align: left;\">Float64</th></tr></thead><tbody><tr><td class = \"rowNumber\" style = \"font-weight: bold; text-align: right;\">1</td><td style = \"text-align: left;\">α</td><td style = \"text-align: right;\">0.363313</td><td style = \"text-align: right;\">0.70817</td><td style = \"text-align: right;\">-0.718562</td><td style = \"text-align: right;\">1.64158</td></tr><tr><td class = \"rowNumber\" style = \"font-weight: bold; text-align: right;\">2</td><td style = \"text-align: left;\">β1</td><td style = \"text-align: right;\">0.531393</td><td style = \"text-align: right;\">0.0777246</td><td style = \"text-align: right;\">0.362832</td><td style = \"text-align: right;\">0.653364</td></tr><tr><td class = \"rowNumber\" style = \"font-weight: bold; text-align: right;\">3</td><td style = \"text-align: left;\">μ</td><td style = \"text-align: right;\">1.25221</td><td style = \"text-align: right;\">1.6037</td><td style = \"text-align: right;\">-1.83876</td><td style = \"text-align: right;\">3.51112</td></tr><tr><td class = \"rowNumber\" style = \"font-weight: bold; text-align: right;\">4</td><td style = \"text-align: left;\">σᵤ²</td><td style = \"text-align: right;\">5.69518</td><td style = \"text-align: right;\">1.41065</td><td style = \"text-align: right;\">4.07724</td><td style = \"text-align: right;\">8.34869</td></tr><tr><td class = \"rowNumber\" style = \"font-weight: bold; text-align: right;\">5</td><td style = \"text-align: left;\">σᵥ²</td><td style = \"text-align: right;\">1.07464</td><td style = \"text-align: right;\">0.660993</td><td style = \"text-align: right;\">0.179626</td><td style = \"text-align: right;\">2.37495</td></tr></tbody></table></div>"
      ],
      "text/latex": [
       "\\begin{tabular}{r|ccccc}\n",
       "\t& variable & mean & std & min & max\\\\\n",
       "\t\\hline\n",
       "\t& Symbol & Float64 & Float64 & Float64 & Float64\\\\\n",
       "\t\\hline\n",
       "\t1 & α & 0.363313 & 0.70817 & -0.718562 & 1.64158 \\\\\n",
       "\t2 & β1 & 0.531393 & 0.0777246 & 0.362832 & 0.653364 \\\\\n",
       "\t3 & μ & 1.25221 & 1.6037 & -1.83876 & 3.51112 \\\\\n",
       "\t4 & σᵤ² & 5.69518 & 1.41065 & 4.07724 & 8.34869 \\\\\n",
       "\t5 & σᵥ² & 1.07464 & 0.660993 & 0.179626 & 2.37495 \\\\\n",
       "\\end{tabular}\n"
      ],
      "text/plain": [
       "\u001b[1m5×5 DataFrame\u001b[0m\n",
       "\u001b[1m Row \u001b[0m│\u001b[1m variable \u001b[0m\u001b[1m mean     \u001b[0m\u001b[1m std       \u001b[0m\u001b[1m min       \u001b[0m\u001b[1m max      \u001b[0m\n",
       "     │\u001b[90m Symbol   \u001b[0m\u001b[90m Float64  \u001b[0m\u001b[90m Float64   \u001b[0m\u001b[90m Float64   \u001b[0m\u001b[90m Float64  \u001b[0m\n",
       "─────┼────────────────────────────────────────────────────\n",
       "   1 │ α         0.363313  0.70817    -0.718562  1.64158\n",
       "   2 │ β1        0.531393  0.0777246   0.362832  0.653364\n",
       "   3 │ μ         1.25221   1.6037     -1.83876   3.51112\n",
       "   4 │ σᵤ²       5.69518   1.41065     4.07724   8.34869\n",
       "   5 │ σᵥ²       1.07464   0.660993    0.179626  2.37495"
      ]
     },
     "execution_count": 54,
     "metadata": {},
     "output_type": "execute_result"
    }
   ],
   "source": [
    "##### NTN_qmc simulation\n",
    "##### Use parameters specified in the example.\n",
    "        \n",
    "myres4 = runSim(NTN_qmc, R=10, N=500, nofx=1, α=0.5, β=[0.5], μ=2.0, \n",
    "               σᵤ²=5.0, σᵥ²=1.0, gtol=1e-7, maxit=30, seed=1126)\n",
    "\n",
    "myres4 = transpose(myres4)\n",
    "\n",
    "myres4 = DataFrame(myres4, :auto)\n",
    "rename!(myres4, [\"x$i\" => vbs for (i, vbs) in enumerate(variables)])\n",
    "\n",
    "describe(myres4, :mean, :std, :min, :max)\n",
    "###### Produce a DataFrame table with the summary statistics.\n",
    "                "
   ]
  }
 ],
 "metadata": {
  "@webio": {
   "lastCommId": null,
   "lastKernelId": null
  },
  "kernelspec": {
   "display_name": "Julia 1.8.5",
   "language": "julia",
   "name": "julia-1.8"
  },
  "language_info": {
   "file_extension": ".jl",
   "mimetype": "application/julia",
   "name": "julia",
   "version": "1.8.5"
  },
  "toc": {
   "base_numbering": 1,
   "nav_menu": {},
   "number_sections": true,
   "sideBar": true,
   "skip_h1_title": false,
   "title_cell": "Table of Contents",
   "title_sidebar": "Contents",
   "toc_cell": false,
   "toc_position": {},
   "toc_section_display": true,
   "toc_window_display": false
  }
 },
 "nbformat": 4,
 "nbformat_minor": 5
}
